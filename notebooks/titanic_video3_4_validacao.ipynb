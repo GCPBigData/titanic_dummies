{
 "cells": [
  {
   "cell_type": "code",
   "execution_count": 26,
   "metadata": {},
   "outputs": [],
   "source": [
    "import pandas as pd\n",
    "import numpy as np"
   ]
  },
  {
   "cell_type": "code",
   "execution_count": 27,
   "metadata": {},
   "outputs": [],
   "source": [
    "def transformar_sexo(valor):\n",
    "    if valor == 'female':\n",
    "        return 1\n",
    "    else:\n",
    "        return 0"
   ]
  },
  {
   "cell_type": "code",
   "execution_count": 34,
   "metadata": {},
   "outputs": [],
   "source": [
    "train = pd.read_csv(\"train.csv\")\n",
    "test = pd.read_csv(\"test.csv\")\n",
    "\n",
    "train['Sex_binario'] = train['Sex'].map(transformar_sexo)\n",
    "test['Sex_binario'] = test['Sex'].map(transformar_sexo)\n",
    "\n",
    "variaveis = ['Sex_binario', 'Age']\n",
    "\n",
    "X = train[variaveis].fillna(-1)\n",
    "y = train['Survived']"
   ]
  },
  {
   "cell_type": "code",
   "execution_count": 35,
   "metadata": {},
   "outputs": [
    {
     "data": {
      "text/html": [
       "<div>\n",
       "<style scoped>\n",
       "    .dataframe tbody tr th:only-of-type {\n",
       "        vertical-align: middle;\n",
       "    }\n",
       "\n",
       "    .dataframe tbody tr th {\n",
       "        vertical-align: top;\n",
       "    }\n",
       "\n",
       "    .dataframe thead th {\n",
       "        text-align: right;\n",
       "    }\n",
       "</style>\n",
       "<table border=\"1\" class=\"dataframe\">\n",
       "  <thead>\n",
       "    <tr style=\"text-align: right;\">\n",
       "      <th></th>\n",
       "      <th>PassengerId</th>\n",
       "      <th>Survived</th>\n",
       "      <th>Pclass</th>\n",
       "      <th>Name</th>\n",
       "      <th>Sex</th>\n",
       "      <th>Age</th>\n",
       "      <th>SibSp</th>\n",
       "      <th>Parch</th>\n",
       "      <th>Ticket</th>\n",
       "      <th>Fare</th>\n",
       "      <th>Cabin</th>\n",
       "      <th>Embarked</th>\n",
       "      <th>Sex_binario</th>\n",
       "    </tr>\n",
       "  </thead>\n",
       "  <tbody>\n",
       "    <tr>\n",
       "      <th>0</th>\n",
       "      <td>1</td>\n",
       "      <td>0</td>\n",
       "      <td>3</td>\n",
       "      <td>Braund, Mr. Owen Harris</td>\n",
       "      <td>male</td>\n",
       "      <td>22.0</td>\n",
       "      <td>1</td>\n",
       "      <td>0</td>\n",
       "      <td>A/5 21171</td>\n",
       "      <td>7.2500</td>\n",
       "      <td>NaN</td>\n",
       "      <td>S</td>\n",
       "      <td>0</td>\n",
       "    </tr>\n",
       "    <tr>\n",
       "      <th>1</th>\n",
       "      <td>2</td>\n",
       "      <td>1</td>\n",
       "      <td>1</td>\n",
       "      <td>Cumings, Mrs. John Bradley (Florence Briggs Th...</td>\n",
       "      <td>female</td>\n",
       "      <td>38.0</td>\n",
       "      <td>1</td>\n",
       "      <td>0</td>\n",
       "      <td>PC 17599</td>\n",
       "      <td>71.2833</td>\n",
       "      <td>C85</td>\n",
       "      <td>C</td>\n",
       "      <td>1</td>\n",
       "    </tr>\n",
       "    <tr>\n",
       "      <th>2</th>\n",
       "      <td>3</td>\n",
       "      <td>1</td>\n",
       "      <td>3</td>\n",
       "      <td>Heikkinen, Miss. Laina</td>\n",
       "      <td>female</td>\n",
       "      <td>26.0</td>\n",
       "      <td>0</td>\n",
       "      <td>0</td>\n",
       "      <td>STON/O2. 3101282</td>\n",
       "      <td>7.9250</td>\n",
       "      <td>NaN</td>\n",
       "      <td>S</td>\n",
       "      <td>1</td>\n",
       "    </tr>\n",
       "    <tr>\n",
       "      <th>3</th>\n",
       "      <td>4</td>\n",
       "      <td>1</td>\n",
       "      <td>1</td>\n",
       "      <td>Futrelle, Mrs. Jacques Heath (Lily May Peel)</td>\n",
       "      <td>female</td>\n",
       "      <td>35.0</td>\n",
       "      <td>1</td>\n",
       "      <td>0</td>\n",
       "      <td>113803</td>\n",
       "      <td>53.1000</td>\n",
       "      <td>C123</td>\n",
       "      <td>S</td>\n",
       "      <td>1</td>\n",
       "    </tr>\n",
       "    <tr>\n",
       "      <th>4</th>\n",
       "      <td>5</td>\n",
       "      <td>0</td>\n",
       "      <td>3</td>\n",
       "      <td>Allen, Mr. William Henry</td>\n",
       "      <td>male</td>\n",
       "      <td>35.0</td>\n",
       "      <td>0</td>\n",
       "      <td>0</td>\n",
       "      <td>373450</td>\n",
       "      <td>8.0500</td>\n",
       "      <td>NaN</td>\n",
       "      <td>S</td>\n",
       "      <td>0</td>\n",
       "    </tr>\n",
       "  </tbody>\n",
       "</table>\n",
       "</div>"
      ],
      "text/plain": [
       "   PassengerId  Survived  Pclass  \\\n",
       "0            1         0       3   \n",
       "1            2         1       1   \n",
       "2            3         1       3   \n",
       "3            4         1       1   \n",
       "4            5         0       3   \n",
       "\n",
       "                                                Name     Sex   Age  SibSp  \\\n",
       "0                            Braund, Mr. Owen Harris    male  22.0      1   \n",
       "1  Cumings, Mrs. John Bradley (Florence Briggs Th...  female  38.0      1   \n",
       "2                             Heikkinen, Miss. Laina  female  26.0      0   \n",
       "3       Futrelle, Mrs. Jacques Heath (Lily May Peel)  female  35.0      1   \n",
       "4                           Allen, Mr. William Henry    male  35.0      0   \n",
       "\n",
       "   Parch            Ticket     Fare Cabin Embarked  Sex_binario  \n",
       "0      0         A/5 21171   7.2500   NaN        S            0  \n",
       "1      0          PC 17599  71.2833   C85        C            1  \n",
       "2      0  STON/O2. 3101282   7.9250   NaN        S            1  \n",
       "3      0            113803  53.1000  C123        S            1  \n",
       "4      0            373450   8.0500   NaN        S            0  "
      ]
     },
     "execution_count": 35,
     "metadata": {},
     "output_type": "execute_result"
    }
   ],
   "source": [
    "train.head()"
   ]
  },
  {
   "cell_type": "code",
   "execution_count": 30,
   "metadata": {},
   "outputs": [],
   "source": [
    "from sklearn.ensemble import RandomForestClassifier\n",
    "from sklearn.model_selection import train_test_split"
   ]
  },
  {
   "cell_type": "code",
   "execution_count": 31,
   "metadata": {},
   "outputs": [
    {
     "data": {
      "text/plain": [
       "array([0, 1, 2, 3, 4, 5, 6, 7, 8, 9])"
      ]
     },
     "execution_count": 31,
     "metadata": {},
     "output_type": "execute_result"
    }
   ],
   "source": [
    "X_falso = np.arange(10)\n",
    "X_falso"
   ]
  },
  {
   "cell_type": "code",
   "execution_count": 32,
   "metadata": {},
   "outputs": [
    {
     "data": {
      "text/plain": [
       "[array([6, 7, 3, 0, 5]), array([2, 8, 4, 9, 1])]"
      ]
     },
     "execution_count": 32,
     "metadata": {},
     "output_type": "execute_result"
    }
   ],
   "source": [
    "np.random.seed(0)\n",
    "train_test_split(X_falso, test_size=0.5)"
   ]
  },
  {
   "cell_type": "code",
   "execution_count": 48,
   "metadata": {},
   "outputs": [],
   "source": [
    "np.random.seed(1)\n",
    "X_treino, X_valid, y_treino, y_valid = train_test_split(X, y, test_size=0.5)"
   ]
  },
  {
   "cell_type": "code",
   "execution_count": 49,
   "metadata": {},
   "outputs": [
    {
     "data": {
      "text/html": [
       "<div>\n",
       "<style scoped>\n",
       "    .dataframe tbody tr th:only-of-type {\n",
       "        vertical-align: middle;\n",
       "    }\n",
       "\n",
       "    .dataframe tbody tr th {\n",
       "        vertical-align: top;\n",
       "    }\n",
       "\n",
       "    .dataframe thead th {\n",
       "        text-align: right;\n",
       "    }\n",
       "</style>\n",
       "<table border=\"1\" class=\"dataframe\">\n",
       "  <thead>\n",
       "    <tr style=\"text-align: right;\">\n",
       "      <th></th>\n",
       "      <th>Sex_binario</th>\n",
       "      <th>Age</th>\n",
       "    </tr>\n",
       "  </thead>\n",
       "  <tbody>\n",
       "    <tr>\n",
       "      <th>394</th>\n",
       "      <td>1</td>\n",
       "      <td>24.00</td>\n",
       "    </tr>\n",
       "    <tr>\n",
       "      <th>851</th>\n",
       "      <td>0</td>\n",
       "      <td>74.00</td>\n",
       "    </tr>\n",
       "    <tr>\n",
       "      <th>373</th>\n",
       "      <td>0</td>\n",
       "      <td>22.00</td>\n",
       "    </tr>\n",
       "    <tr>\n",
       "      <th>523</th>\n",
       "      <td>1</td>\n",
       "      <td>44.00</td>\n",
       "    </tr>\n",
       "    <tr>\n",
       "      <th>78</th>\n",
       "      <td>0</td>\n",
       "      <td>0.83</td>\n",
       "    </tr>\n",
       "  </tbody>\n",
       "</table>\n",
       "</div>"
      ],
      "text/plain": [
       "     Sex_binario    Age\n",
       "394            1  24.00\n",
       "851            0  74.00\n",
       "373            0  22.00\n",
       "523            1  44.00\n",
       "78             0   0.83"
      ]
     },
     "execution_count": 49,
     "metadata": {},
     "output_type": "execute_result"
    }
   ],
   "source": [
    "X_treino.head()"
   ]
  },
  {
   "cell_type": "code",
   "execution_count": 50,
   "metadata": {},
   "outputs": [
    {
     "data": {
      "text/plain": [
       "((445, 2), (446, 2), (445,), (446,))"
      ]
     },
     "execution_count": 50,
     "metadata": {},
     "output_type": "execute_result"
    }
   ],
   "source": [
    "X_treino.shape, X_valid.shape, y_treino.shape, y_valid.shape"
   ]
  },
  {
   "cell_type": "code",
   "execution_count": 51,
   "metadata": {},
   "outputs": [
    {
     "data": {
      "text/plain": [
       "RandomForestClassifier(bootstrap=True, class_weight=None, criterion='gini',\n",
       "            max_depth=None, max_features='auto', max_leaf_nodes=None,\n",
       "            min_impurity_decrease=0.0, min_impurity_split=None,\n",
       "            min_samples_leaf=1, min_samples_split=2,\n",
       "            min_weight_fraction_leaf=0.0, n_estimators=100, n_jobs=-1,\n",
       "            oob_score=False, random_state=0, verbose=0, warm_start=False)"
      ]
     },
     "execution_count": 51,
     "metadata": {},
     "output_type": "execute_result"
    }
   ],
   "source": [
    "modelo = RandomForestClassifier(n_estimators=100, n_jobs=-1, random_state=0)\n",
    "modelo.fit(X_treino, y_treino)"
   ]
  },
  {
   "cell_type": "code",
   "execution_count": 52,
   "metadata": {},
   "outputs": [],
   "source": [
    "p = modelo.predict(X_valid)"
   ]
  },
  {
   "cell_type": "code",
   "execution_count": 53,
   "metadata": {},
   "outputs": [
    {
     "data": {
      "text/plain": [
       "0.7466367713004485"
      ]
     },
     "execution_count": 53,
     "metadata": {},
     "output_type": "execute_result"
    }
   ],
   "source": [
    "np.mean(y_valid == p)"
   ]
  },
  {
   "cell_type": "code",
   "execution_count": 54,
   "metadata": {},
   "outputs": [
    {
     "data": {
      "text/plain": [
       "0.7623318385650224"
      ]
     },
     "execution_count": 54,
     "metadata": {},
     "output_type": "execute_result"
    }
   ],
   "source": [
    "p = (X_valid['Sex_binario'] == 1).astype(np.int64)\n",
    "np.mean(y_valid == p)"
   ]
  },
  {
   "cell_type": "markdown",
   "metadata": {},
   "source": [
    "## Validação cruzada"
   ]
  },
  {
   "cell_type": "code",
   "execution_count": 55,
   "metadata": {},
   "outputs": [
    {
     "data": {
      "text/plain": [
       "array([0, 1, 2, 3, 4, 5, 6, 7, 8, 9])"
      ]
     },
     "execution_count": 55,
     "metadata": {},
     "output_type": "execute_result"
    }
   ],
   "source": [
    "X_falso"
   ]
  },
  {
   "cell_type": "code",
   "execution_count": 56,
   "metadata": {},
   "outputs": [],
   "source": [
    "from sklearn.model_selection import KFold"
   ]
  },
  {
   "cell_type": "code",
   "execution_count": 57,
   "metadata": {},
   "outputs": [
    {
     "data": {
      "text/plain": [
       "\u001b[0;31mInit signature:\u001b[0m \u001b[0mKFold\u001b[0m\u001b[0;34m(\u001b[0m\u001b[0mn_splits\u001b[0m\u001b[0;34m=\u001b[0m\u001b[0;34m'warn'\u001b[0m\u001b[0;34m,\u001b[0m \u001b[0mshuffle\u001b[0m\u001b[0;34m=\u001b[0m\u001b[0;32mFalse\u001b[0m\u001b[0;34m,\u001b[0m \u001b[0mrandom_state\u001b[0m\u001b[0;34m=\u001b[0m\u001b[0;32mNone\u001b[0m\u001b[0;34m)\u001b[0m\u001b[0;34m\u001b[0m\u001b[0;34m\u001b[0m\u001b[0m\n",
       "\u001b[0;31mDocstring:\u001b[0m     \n",
       "K-Folds cross-validator\n",
       "\n",
       "Provides train/test indices to split data in train/test sets. Split\n",
       "dataset into k consecutive folds (without shuffling by default).\n",
       "\n",
       "Each fold is then used once as a validation while the k - 1 remaining\n",
       "folds form the training set.\n",
       "\n",
       "Read more in the :ref:`User Guide <cross_validation>`.\n",
       "\n",
       "Parameters\n",
       "----------\n",
       "n_splits : int, default=3\n",
       "    Number of folds. Must be at least 2.\n",
       "\n",
       "    .. versionchanged:: 0.20\n",
       "        ``n_splits`` default value will change from 3 to 5 in v0.22.\n",
       "\n",
       "shuffle : boolean, optional\n",
       "    Whether to shuffle the data before splitting into batches.\n",
       "\n",
       "random_state : int, RandomState instance or None, optional, default=None\n",
       "    If int, random_state is the seed used by the random number generator;\n",
       "    If RandomState instance, random_state is the random number generator;\n",
       "    If None, the random number generator is the RandomState instance used\n",
       "    by `np.random`. Used when ``shuffle`` == True.\n",
       "\n",
       "Examples\n",
       "--------\n",
       ">>> from sklearn.model_selection import KFold\n",
       ">>> X = np.array([[1, 2], [3, 4], [1, 2], [3, 4]])\n",
       ">>> y = np.array([1, 2, 3, 4])\n",
       ">>> kf = KFold(n_splits=2)\n",
       ">>> kf.get_n_splits(X)\n",
       "2\n",
       ">>> print(kf)  # doctest: +NORMALIZE_WHITESPACE\n",
       "KFold(n_splits=2, random_state=None, shuffle=False)\n",
       ">>> for train_index, test_index in kf.split(X):\n",
       "...    print(\"TRAIN:\", train_index, \"TEST:\", test_index)\n",
       "...    X_train, X_test = X[train_index], X[test_index]\n",
       "...    y_train, y_test = y[train_index], y[test_index]\n",
       "TRAIN: [2 3] TEST: [0 1]\n",
       "TRAIN: [0 1] TEST: [2 3]\n",
       "\n",
       "Notes\n",
       "-----\n",
       "The first ``n_samples % n_splits`` folds have size\n",
       "``n_samples // n_splits + 1``, other folds have size\n",
       "``n_samples // n_splits``, where ``n_samples`` is the number of samples.\n",
       "\n",
       "Randomized CV splitters may return different results for each call of\n",
       "split. You can make the results identical by setting ``random_state``\n",
       "to an integer.\n",
       "\n",
       "See also\n",
       "--------\n",
       "StratifiedKFold\n",
       "    Takes group information into account to avoid building folds with\n",
       "    imbalanced class distributions (for binary or multiclass\n",
       "    classification tasks).\n",
       "\n",
       "GroupKFold: K-fold iterator variant with non-overlapping groups.\n",
       "\n",
       "RepeatedKFold: Repeats K-Fold n times.\n",
       "\u001b[0;31mFile:\u001b[0m           ~/anaconda3/lib/python3.7/site-packages/sklearn/model_selection/_split.py\n",
       "\u001b[0;31mType:\u001b[0m           ABCMeta\n",
       "\u001b[0;31mSubclasses:\u001b[0m     \n"
      ]
     },
     "metadata": {},
     "output_type": "display_data"
    }
   ],
   "source": [
    "?KFold"
   ]
  },
  {
   "cell_type": "code",
   "execution_count": 59,
   "metadata": {},
   "outputs": [
    {
     "name": "stdout",
     "output_type": "stream",
     "text": [
      "Treino: [0 1 3 5 6 7]\n",
      "Valid: [2 4 8 9]\n",
      "\n",
      "Treino: [0 2 3 4 5 8 9]\n",
      "Valid: [1 6 7]\n",
      "\n",
      "Treino: [1 2 4 6 7 8 9]\n",
      "Valid: [0 3 5]\n",
      "\n"
     ]
    }
   ],
   "source": [
    "kf = KFold(3, shuffle=True, random_state=0)\n",
    "for linhas_treino, linhas_valid in kf.split(X_falso):\n",
    "    print(\"Treino:\", linhas_treino)\n",
    "    print(\"Valid:\", linhas_valid)\n",
    "    print()"
   ]
  },
  {
   "cell_type": "code",
   "execution_count": 72,
   "metadata": {},
   "outputs": [
    {
     "name": "stdout",
     "output_type": "stream",
     "text": [
      "Rep: 0\n",
      "Treino: 712\n",
      "Valid: 179\n",
      "Acc: 0.7988826815642458\n",
      "\n",
      "Treino: 713\n",
      "Valid: 178\n",
      "Acc: 0.7359550561797753\n",
      "\n",
      "Treino: 713\n",
      "Valid: 178\n",
      "Acc: 0.7808988764044944\n",
      "\n",
      "Treino: 713\n",
      "Valid: 178\n",
      "Acc: 0.797752808988764\n",
      "\n",
      "Treino: 713\n",
      "Valid: 178\n",
      "Acc: 0.7808988764044944\n",
      "\n",
      "Rep: 1\n",
      "Treino: 712\n",
      "Valid: 179\n",
      "Acc: 0.7374301675977654\n",
      "\n",
      "Treino: 713\n",
      "Valid: 178\n",
      "Acc: 0.7247191011235955\n",
      "\n",
      "Treino: 713\n",
      "Valid: 178\n",
      "Acc: 0.7808988764044944\n",
      "\n",
      "Treino: 713\n",
      "Valid: 178\n",
      "Acc: 0.7921348314606742\n",
      "\n",
      "Treino: 713\n",
      "Valid: 178\n",
      "Acc: 0.7921348314606742\n",
      "\n",
      "Rep: 2\n",
      "Treino: 712\n",
      "Valid: 179\n",
      "Acc: 0.7653631284916201\n",
      "\n",
      "Treino: 713\n",
      "Valid: 178\n",
      "Acc: 0.7865168539325843\n",
      "\n",
      "Treino: 713\n",
      "Valid: 178\n",
      "Acc: 0.7865168539325843\n",
      "\n",
      "Treino: 713\n",
      "Valid: 178\n",
      "Acc: 0.7808988764044944\n",
      "\n",
      "Treino: 713\n",
      "Valid: 178\n",
      "Acc: 0.7640449438202247\n",
      "\n",
      "Rep: 3\n",
      "Treino: 712\n",
      "Valid: 179\n",
      "Acc: 0.7653631284916201\n",
      "\n",
      "Treino: 713\n",
      "Valid: 178\n",
      "Acc: 0.7471910112359551\n",
      "\n",
      "Treino: 713\n",
      "Valid: 178\n",
      "Acc: 0.7808988764044944\n",
      "\n",
      "Treino: 713\n",
      "Valid: 178\n",
      "Acc: 0.7415730337078652\n",
      "\n",
      "Treino: 713\n",
      "Valid: 178\n",
      "Acc: 0.8202247191011236\n",
      "\n",
      "Rep: 4\n",
      "Treino: 712\n",
      "Valid: 179\n",
      "Acc: 0.7988826815642458\n",
      "\n",
      "Treino: 713\n",
      "Valid: 178\n",
      "Acc: 0.797752808988764\n",
      "\n",
      "Treino: 713\n",
      "Valid: 178\n",
      "Acc: 0.7752808988764045\n",
      "\n",
      "Treino: 713\n",
      "Valid: 178\n",
      "Acc: 0.7415730337078652\n",
      "\n",
      "Treino: 713\n",
      "Valid: 178\n",
      "Acc: 0.7471910112359551\n",
      "\n",
      "Rep: 5\n",
      "Treino: 712\n",
      "Valid: 179\n",
      "Acc: 0.7653631284916201\n",
      "\n",
      "Treino: 713\n",
      "Valid: 178\n",
      "Acc: 0.7415730337078652\n",
      "\n",
      "Treino: 713\n",
      "Valid: 178\n",
      "Acc: 0.8370786516853933\n",
      "\n",
      "Treino: 713\n",
      "Valid: 178\n",
      "Acc: 0.7471910112359551\n",
      "\n",
      "Treino: 713\n",
      "Valid: 178\n",
      "Acc: 0.702247191011236\n",
      "\n",
      "Rep: 6\n",
      "Treino: 712\n",
      "Valid: 179\n",
      "Acc: 0.7821229050279329\n",
      "\n",
      "Treino: 713\n",
      "Valid: 178\n",
      "Acc: 0.8146067415730337\n",
      "\n",
      "Treino: 713\n",
      "Valid: 178\n",
      "Acc: 0.7752808988764045\n",
      "\n",
      "Treino: 713\n",
      "Valid: 178\n",
      "Acc: 0.7134831460674157\n",
      "\n",
      "Treino: 713\n",
      "Valid: 178\n",
      "Acc: 0.7247191011235955\n",
      "\n",
      "Rep: 7\n",
      "Treino: 712\n",
      "Valid: 179\n",
      "Acc: 0.7150837988826816\n",
      "\n",
      "Treino: 713\n",
      "Valid: 178\n",
      "Acc: 0.7247191011235955\n",
      "\n",
      "Treino: 713\n",
      "Valid: 178\n",
      "Acc: 0.8370786516853933\n",
      "\n",
      "Treino: 713\n",
      "Valid: 178\n",
      "Acc: 0.8033707865168539\n",
      "\n",
      "Treino: 713\n",
      "Valid: 178\n",
      "Acc: 0.7808988764044944\n",
      "\n",
      "Rep: 8\n",
      "Treino: 712\n",
      "Valid: 179\n",
      "Acc: 0.7597765363128491\n",
      "\n",
      "Treino: 713\n",
      "Valid: 178\n",
      "Acc: 0.7921348314606742\n",
      "\n",
      "Treino: 713\n",
      "Valid: 178\n",
      "Acc: 0.7921348314606742\n",
      "\n",
      "Treino: 713\n",
      "Valid: 178\n",
      "Acc: 0.7696629213483146\n",
      "\n",
      "Treino: 713\n",
      "Valid: 178\n",
      "Acc: 0.7640449438202247\n",
      "\n",
      "Rep: 9\n",
      "Treino: 712\n",
      "Valid: 179\n",
      "Acc: 0.7039106145251397\n",
      "\n",
      "Treino: 713\n",
      "Valid: 178\n",
      "Acc: 0.7584269662921348\n",
      "\n",
      "Treino: 713\n",
      "Valid: 178\n",
      "Acc: 0.7415730337078652\n",
      "\n",
      "Treino: 713\n",
      "Valid: 178\n",
      "Acc: 0.8033707865168539\n",
      "\n",
      "Treino: 713\n",
      "Valid: 178\n",
      "Acc: 0.7921348314606742\n",
      "\n"
     ]
    }
   ],
   "source": [
    "resultados = []\n",
    "for rep in range(10):\n",
    "    print(\"Rep:\", rep)\n",
    "    kf = KFold(5, shuffle=True, random_state=rep)\n",
    "    \n",
    "    for linhas_treino, linhas_valid in kf.split(X):\n",
    "        print(\"Treino:\", linhas_treino.shape[0])\n",
    "        print(\"Valid:\", linhas_valid.shape[0])\n",
    "\n",
    "        X_treino, X_valid = X.iloc[linhas_treino], X.iloc[linhas_valid]\n",
    "        y_treino, y_valid = y.iloc[linhas_treino], y.iloc[linhas_valid]\n",
    "\n",
    "        modelo = RandomForestClassifier(n_estimators=100, n_jobs=-1, random_state=0)\n",
    "        modelo.fit(X_treino, y_treino)\n",
    "\n",
    "        p = modelo.predict(X_valid)\n",
    "\n",
    "        acc = np.mean(y_valid == p)\n",
    "        resultados.append(acc)\n",
    "        print(\"Acc:\", acc)\n",
    "        print()\n",
    "        #print(X_treino.head())\n",
    "        #print()"
   ]
  },
  {
   "cell_type": "code",
   "execution_count": 73,
   "metadata": {},
   "outputs": [
    {
     "data": {
      "text/plain": [
       "50"
      ]
     },
     "execution_count": 73,
     "metadata": {},
     "output_type": "execute_result"
    }
   ],
   "source": [
    "len(resultados)"
   ]
  },
  {
   "cell_type": "code",
   "execution_count": 74,
   "metadata": {},
   "outputs": [
    {
     "data": {
      "text/plain": [
       "0.7692593057560732"
      ]
     },
     "execution_count": 74,
     "metadata": {},
     "output_type": "execute_result"
    }
   ],
   "source": [
    "np.mean(resultados)"
   ]
  },
  {
   "cell_type": "markdown",
   "metadata": {},
   "source": [
    "## Criar submission"
   ]
  },
  {
   "cell_type": "code",
   "execution_count": 92,
   "metadata": {},
   "outputs": [
    {
     "data": {
      "text/plain": [
       "(418,)"
      ]
     },
     "execution_count": 92,
     "metadata": {},
     "output_type": "execute_result"
    }
   ],
   "source": [
    "sub = pd.Series(p, index=test['PassengerId'], name='Survived')\n",
    "sub.shape"
   ]
  },
  {
   "cell_type": "code",
   "execution_count": 93,
   "metadata": {},
   "outputs": [],
   "source": [
    "sub.to_csv(\"primeiro_modelo.csv\", header=True)"
   ]
  },
  {
   "cell_type": "code",
   "execution_count": 94,
   "metadata": {},
   "outputs": [
    {
     "name": "stdout",
     "output_type": "stream",
     "text": [
      "PassengerId,Survived\n",
      "892,0\n",
      "893,1\n",
      "894,0\n",
      "895,1\n",
      "896,1\n",
      "897,0\n",
      "898,1\n",
      "899,0\n",
      "900,1\n"
     ]
    }
   ],
   "source": [
    "!head -n10 primeiro_modelo.csv"
   ]
  },
  {
   "cell_type": "code",
   "execution_count": null,
   "metadata": {},
   "outputs": [],
   "source": []
  }
 ],
 "metadata": {
  "kernelspec": {
   "display_name": "Python 3",
   "language": "python",
   "name": "python3"
  },
  "language_info": {
   "codemirror_mode": {
    "name": "ipython",
    "version": 3
   },
   "file_extension": ".py",
   "mimetype": "text/x-python",
   "name": "python",
   "nbconvert_exporter": "python",
   "pygments_lexer": "ipython3",
   "version": "3.7.3"
  }
 },
 "nbformat": 4,
 "nbformat_minor": 4
}
